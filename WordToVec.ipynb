{
 "cells": [
  {
   "cell_type": "code",
   "execution_count": 37,
   "id": "eb891baa",
   "metadata": {},
   "outputs": [
    {
     "name": "stdout",
     "output_type": "stream",
     "text": [
      "Requirement already satisfied: tensorflow-gpu in c:\\users\\user\\anaconda3\\lib\\site-packages (2.8.0)Note: you may need to restart the kernel to use updated packages.\n",
      "\n",
      "Requirement already satisfied: wrapt>=1.11.0 in c:\\users\\user\\anaconda3\\lib\\site-packages (from tensorflow-gpu) (1.12.1)\n",
      "Requirement already satisfied: libclang>=9.0.1 in c:\\users\\user\\anaconda3\\lib\\site-packages (from tensorflow-gpu) (14.0.1)\n",
      "Requirement already satisfied: setuptools in c:\\users\\user\\anaconda3\\lib\\site-packages (from tensorflow-gpu) (58.0.4)\n",
      "Requirement already satisfied: tf-estimator-nightly==2.8.0.dev2021122109 in c:\\users\\user\\anaconda3\\lib\\site-packages (from tensorflow-gpu) (2.8.0.dev2021122109)\n",
      "Requirement already satisfied: tensorboard<2.9,>=2.8 in c:\\users\\user\\anaconda3\\lib\\site-packages (from tensorflow-gpu) (2.8.0)\n",
      "Requirement already satisfied: astunparse>=1.6.0 in c:\\users\\user\\anaconda3\\lib\\site-packages (from tensorflow-gpu) (1.6.3)\n",
      "Requirement already satisfied: termcolor>=1.1.0 in c:\\users\\user\\anaconda3\\lib\\site-packages (from tensorflow-gpu) (1.1.0)\n",
      "Requirement already satisfied: google-pasta>=0.1.1 in c:\\users\\user\\anaconda3\\lib\\site-packages (from tensorflow-gpu) (0.2.0)\n",
      "Requirement already satisfied: h5py>=2.9.0 in c:\\users\\user\\anaconda3\\lib\\site-packages (from tensorflow-gpu) (3.2.1)\n",
      "Requirement already satisfied: gast>=0.2.1 in c:\\users\\user\\anaconda3\\lib\\site-packages (from tensorflow-gpu) (0.5.3)\n",
      "Requirement already satisfied: flatbuffers>=1.12 in c:\\users\\user\\anaconda3\\lib\\site-packages (from tensorflow-gpu) (2.0)\n",
      "Requirement already satisfied: keras-preprocessing>=1.1.1 in c:\\users\\user\\anaconda3\\lib\\site-packages (from tensorflow-gpu) (1.1.2)\n",
      "Requirement already satisfied: six>=1.12.0 in c:\\users\\user\\anaconda3\\lib\\site-packages (from tensorflow-gpu) (1.16.0)\n",
      "Requirement already satisfied: typing-extensions>=3.6.6 in c:\\users\\user\\anaconda3\\lib\\site-packages (from tensorflow-gpu) (3.10.0.2)\n",
      "Requirement already satisfied: absl-py>=0.4.0 in c:\\users\\user\\anaconda3\\lib\\site-packages (from tensorflow-gpu) (1.0.0)\n",
      "Requirement already satisfied: opt-einsum>=2.3.2 in c:\\users\\user\\anaconda3\\lib\\site-packages (from tensorflow-gpu) (3.3.0)\n",
      "Requirement already satisfied: protobuf>=3.9.2 in c:\\users\\user\\anaconda3\\lib\\site-packages (from tensorflow-gpu) (3.20.1)\n",
      "Requirement already satisfied: grpcio<2.0,>=1.24.3 in c:\\users\\user\\anaconda3\\lib\\site-packages (from tensorflow-gpu) (1.46.0)\n",
      "Requirement already satisfied: keras<2.9,>=2.8.0rc0 in c:\\users\\user\\anaconda3\\lib\\site-packages (from tensorflow-gpu) (2.8.0)\n",
      "Requirement already satisfied: tensorflow-io-gcs-filesystem>=0.23.1 in c:\\users\\user\\anaconda3\\lib\\site-packages (from tensorflow-gpu) (0.25.0)\n",
      "Requirement already satisfied: numpy>=1.20 in c:\\users\\user\\anaconda3\\lib\\site-packages (from tensorflow-gpu) (1.20.3)\n",
      "Requirement already satisfied: wheel<1.0,>=0.23.0 in c:\\users\\user\\anaconda3\\lib\\site-packages (from astunparse>=1.6.0->tensorflow-gpu) (0.37.0)\n",
      "Requirement already satisfied: google-auth-oauthlib<0.5,>=0.4.1 in c:\\users\\user\\anaconda3\\lib\\site-packages (from tensorboard<2.9,>=2.8->tensorflow-gpu) (0.4.6)\n",
      "Requirement already satisfied: tensorboard-data-server<0.7.0,>=0.6.0 in c:\\users\\user\\anaconda3\\lib\\site-packages (from tensorboard<2.9,>=2.8->tensorflow-gpu) (0.6.1)\n",
      "Requirement already satisfied: markdown>=2.6.8 in c:\\users\\user\\anaconda3\\lib\\site-packages (from tensorboard<2.9,>=2.8->tensorflow-gpu) (3.3.6)\n",
      "Requirement already satisfied: requests<3,>=2.21.0 in c:\\users\\user\\anaconda3\\lib\\site-packages (from tensorboard<2.9,>=2.8->tensorflow-gpu) (2.26.0)\n",
      "Requirement already satisfied: tensorboard-plugin-wit>=1.6.0 in c:\\users\\user\\anaconda3\\lib\\site-packages (from tensorboard<2.9,>=2.8->tensorflow-gpu) (1.8.1)\n",
      "Requirement already satisfied: werkzeug>=0.11.15 in c:\\users\\user\\anaconda3\\lib\\site-packages (from tensorboard<2.9,>=2.8->tensorflow-gpu) (2.0.2)\n",
      "Requirement already satisfied: google-auth<3,>=1.6.3 in c:\\users\\user\\anaconda3\\lib\\site-packages (from tensorboard<2.9,>=2.8->tensorflow-gpu) (2.6.6)\n",
      "Requirement already satisfied: rsa<5,>=3.1.4 in c:\\users\\user\\anaconda3\\lib\\site-packages (from google-auth<3,>=1.6.3->tensorboard<2.9,>=2.8->tensorflow-gpu) (4.8)\n",
      "Requirement already satisfied: pyasn1-modules>=0.2.1 in c:\\users\\user\\anaconda3\\lib\\site-packages (from google-auth<3,>=1.6.3->tensorboard<2.9,>=2.8->tensorflow-gpu) (0.2.8)\n",
      "Requirement already satisfied: cachetools<6.0,>=2.0.0 in c:\\users\\user\\anaconda3\\lib\\site-packages (from google-auth<3,>=1.6.3->tensorboard<2.9,>=2.8->tensorflow-gpu) (5.0.0)\n",
      "Requirement already satisfied: requests-oauthlib>=0.7.0 in c:\\users\\user\\anaconda3\\lib\\site-packages (from google-auth-oauthlib<0.5,>=0.4.1->tensorboard<2.9,>=2.8->tensorflow-gpu) (1.3.1)\n",
      "Requirement already satisfied: importlib-metadata>=4.4 in c:\\users\\user\\anaconda3\\lib\\site-packages (from markdown>=2.6.8->tensorboard<2.9,>=2.8->tensorflow-gpu) (4.8.1)\n",
      "Requirement already satisfied: zipp>=0.5 in c:\\users\\user\\anaconda3\\lib\\site-packages (from importlib-metadata>=4.4->markdown>=2.6.8->tensorboard<2.9,>=2.8->tensorflow-gpu) (3.6.0)\n",
      "Requirement already satisfied: pyasn1<0.5.0,>=0.4.6 in c:\\users\\user\\anaconda3\\lib\\site-packages (from pyasn1-modules>=0.2.1->google-auth<3,>=1.6.3->tensorboard<2.9,>=2.8->tensorflow-gpu) (0.4.8)\n",
      "Requirement already satisfied: urllib3<1.27,>=1.21.1 in c:\\users\\user\\anaconda3\\lib\\site-packages (from requests<3,>=2.21.0->tensorboard<2.9,>=2.8->tensorflow-gpu) (1.26.7)\n",
      "Requirement already satisfied: certifi>=2017.4.17 in c:\\users\\user\\anaconda3\\lib\\site-packages (from requests<3,>=2.21.0->tensorboard<2.9,>=2.8->tensorflow-gpu) (2021.10.8)\n",
      "Requirement already satisfied: idna<4,>=2.5 in c:\\users\\user\\anaconda3\\lib\\site-packages (from requests<3,>=2.21.0->tensorboard<2.9,>=2.8->tensorflow-gpu) (3.2)\n",
      "Requirement already satisfied: charset-normalizer~=2.0.0 in c:\\users\\user\\anaconda3\\lib\\site-packages (from requests<3,>=2.21.0->tensorboard<2.9,>=2.8->tensorflow-gpu) (2.0.4)\n",
      "Requirement already satisfied: oauthlib>=3.0.0 in c:\\users\\user\\anaconda3\\lib\\site-packages (from requests-oauthlib>=0.7.0->google-auth-oauthlib<0.5,>=0.4.1->tensorboard<2.9,>=2.8->tensorflow-gpu) (3.2.0)\n"
     ]
    }
   ],
   "source": [
    "pip install tensorflow-gpu"
   ]
  },
  {
   "cell_type": "code",
   "execution_count": 38,
   "id": "9050e0ae",
   "metadata": {},
   "outputs": [],
   "source": [
    "from pdfminer.pdfinterp import PDFResourceManager, PDFPageInterpreter\n",
    "from pdfminer.layout import LAParams\n",
    "from pdfminer.converter import TextConverter\n",
    "from io import StringIO\n",
    "from pdfminer.pdfpage import PDFPage"
   ]
  },
  {
   "cell_type": "code",
   "execution_count": null,
   "id": "f82b7f52",
   "metadata": {},
   "outputs": [],
   "source": []
  },
  {
   "cell_type": "code",
   "execution_count": 39,
   "id": "27d76a77",
   "metadata": {},
   "outputs": [],
   "source": [
    "def get_pdf_file_content(path_to_pdf):\n",
    "    \n",
    "    '''\n",
    "    path_to_pdf: is the parameter that will give access to the PDF File \n",
    "    we want to extract the content.\n",
    "    '''\n",
    "    \n",
    "    '''\n",
    "    PDFResourceManager is used to store shared resources such as fonts or images that \n",
    "    we might encounter in the files. \n",
    "    '''\n",
    "    \n",
    "    resource_manager = PDFResourceManager(caching=True)\n",
    "    \n",
    "    '''\n",
    "    create a string object that will contain the final text the representation of the pdf. \n",
    "    '''\n",
    "    out_text = StringIO()\n",
    "    \n",
    "    '''\n",
    "    UTF-8 is one of the most commonly used encodings, and Python often defaults to using it.\n",
    "    In our case, we are going to specify in order to avoid some encoding errors.\n",
    "    '''\n",
    "    codec = 'utf-8'\n",
    "    \n",
    "    \"\"\"\n",
    "    LAParams is the object containing the Layout parameters with a certain default value. \n",
    "    \"\"\"\n",
    "    laParams = LAParams()\n",
    "    \n",
    "    '''\n",
    "    Create a TextConverter Object, taking :\n",
    "    - ressource_manager,\n",
    "    - out_text \n",
    "    - layout parameters.\n",
    "    '''\n",
    "    text_converter = TextConverter(resource_manager, out_text, laparams=laParams)\n",
    "    fp = open(path_to_pdf, 'rb')\n",
    "    \n",
    "    '''\n",
    "    Create a PDF interpreter object taking: \n",
    "    - ressource_manager \n",
    "    - text_converter\n",
    "    '''\n",
    "    interpreter = PDFPageInterpreter(resource_manager, text_converter)\n",
    "\n",
    "    '''\n",
    "    We are going to process the content of each page of the original PDF File\n",
    "    '''\n",
    "    for page in PDFPage.get_pages(fp, pagenos=set(), maxpages=0, password=\"\", caching=True, check_extractable=True):\n",
    "        interpreter.process_page(page)\n",
    "\n",
    "    '''\n",
    "    Retrieve the entire contents of the “file” at any time \n",
    "    before the StringIO object’s close() method is called.\n",
    "    '''\n",
    "    text = out_text.getvalue()\n",
    "\n",
    "    '''\n",
    "    Closing all the ressources we previously opened\n",
    "    '''\n",
    "    fp.close()\n",
    "    text_converter.close()\n",
    "    out_text.close()\n",
    "    \n",
    "    '''\n",
    "    Return the final variable containing all the text of the PDF\n",
    "    '''\n",
    "    return text"
   ]
  },
  {
   "cell_type": "code",
   "execution_count": 40,
   "id": "7be6a96b",
   "metadata": {},
   "outputs": [],
   "source": [
    "path_to_pdf = \"./1220.pdf\""
   ]
  },
  {
   "cell_type": "code",
   "execution_count": 41,
   "id": "5798c292",
   "metadata": {},
   "outputs": [],
   "source": [
    " #print(get_pdf_file_content(path_to_pdf))"
   ]
  },
  {
   "cell_type": "code",
   "execution_count": 42,
   "id": "7681091d",
   "metadata": {},
   "outputs": [],
   "source": [
    "import tensorflow as tf\n",
    "from tensorflow.keras import layers"
   ]
  },
  {
   "cell_type": "code",
   "execution_count": 43,
   "id": "5cf3185b",
   "metadata": {},
   "outputs": [],
   "source": [
    "import io\n",
    "import re\n",
    "import string\n",
    "import tqdm\n",
    "\n",
    "import numpy as np\n",
    "\n",
    "import tensorflow as tf\n",
    "from tensorflow.keras import layers"
   ]
  },
  {
   "cell_type": "code",
   "execution_count": 44,
   "id": "29581c55",
   "metadata": {},
   "outputs": [
    {
     "name": "stdout",
     "output_type": "stream",
     "text": [
      "3804\n"
     ]
    }
   ],
   "source": [
    "sentence = get_pdf_file_content(path_to_pdf)\n",
    "tokens = list(sentence.lower().split())\n",
    "print(len(tokens))"
   ]
  },
  {
   "cell_type": "code",
   "execution_count": 45,
   "id": "946e4d7a",
   "metadata": {},
   "outputs": [
    {
     "name": "stdout",
     "output_type": "stream",
     "text": [
      "{'<pad>': 0, 'http://judis.nic.in': 1, 'supreme': 2, 'court': 3, 'of': 4, 'india': 5, 'page': 6, '1': 7, '7': 8, 'petitioner:': 9, 'commissioner': 10, 'income-tax,west': 11, 'bengal': 12, 'vs.': 13, 'respondent:': 14, 'calcutta': 15, 'agency': 16, 'ltd.': 17, 'date': 18, 'judgment:': 19, '21/12/1950': 20, 'bench:': 21, 'kania,': 22, 'hiralal': 23, 'j.': 24, '(cj)': 25, 'sastri,': 26, 'm.': 27, 'patanjali': 28, 'das,': 29, 'sudhi': 30, 'ranjan': 31, 'citation:': 32, '1951': 33, 'air': 34, '108': 35, '1950': 36, 'scr': 37, '1008': 38, 'citator': 39, 'info': 40, ':': 41, 'd': 42, '1965': 43, 'sc1905': 44, '(6)': 45, 'r': 46, '1976': 47, 'sc': 48, '772': 49, 'act:': 50, 'lndian': 51, 'income-tax': 52, 'act': 53, '(xi': 54, '1922),': 55, 'ss.': 56, '10': 57, '(2)': 58, '(xv),': 59, '66--reference--jurisdiction': 60, 'high': 61, 'court--duty': 62, 'to': 63, 'decide': 64, 'case': 65, 'on': 66, 'facts': 67, 'stated': 68, 'by': 69, 'tribunal--accepting': 70, 'arguments': 71, 'counsel': 72, 'as': 73, 'poved': 74, 'and': 75, 'basing': 76, 'decision': 77, 'them,': 78, 'impro-': 79, 'priety': 80, 'of--buisness': 81, 'expenditure-payments': 82, 'avoid': 83, 'disclosure': 84, 'misfeasance': 85, 'directors--burden': 86, 'proof': 87, 'headnote:': 88, 'the': 89, 'jurisdiction': 90, 'in': 91, 'matter': 92, 'mooroetax': 93, 'references': 94, 'is': 95, 'an': 96, 'advisory': 97, 'under': 98, 'incometax': 99, 'appellate': 100, 'tribunal': 101, 'final': 102, 'unless': 103, 'it': 104, 'can': 105, 'be': 106, 'successfully': 107, 'assailed': 108, 'ground': 109, 'that': 110, 'thoro': 111, 'was': 112, '1009': 113, 'no': 114, 'evidence': 115, 'for': 116, 'conclusions': 117, 'recorded': 118, 'tribunal.': 119, 'therefore': 120, 'duty': 121, 'start': 122, 'looking': 123, 'at': 124, 'found': 125, 'answer': 126, 'questions': 127, 'law': 128, 'footing.': 129, 'not': 130, 'proper': 131, 'depart': 132, 'from': 133, 'this': 134, 'rule': 135, 'will': 136, 'convert': 137, 'into': 138, 'a': 139, 'fact': 140, 'finding': 141, 'authority,': 142, 'which': 143, 'not,': 144, 'jurisdiction.': 145, 'statement': 146, 'tile': 147, 'prepared': 148, 'accodance': 149, 'with': 150, 'rules': 151, 'framed': 152, 'in-': 153, 'come-tax': 154, 'knowledge': 155, 'parties': 156, 'concerned': 157, 'they': 158, 'have': 159, 'full': 160, 'opportunity': 161, 'apply': 162, 'any': 163, 'addition': 164, 'or': 165, 'deletion': 166, 'statement,': 167, 'if': 168, 'approved': 169, 'made': 170, 'tribunal,': 171, 'agreed': 172, 'has': 173, 'pronounce': 174, 'its': 175, 'judgment.’': 176, 'would': 177, 'acting': 178, 'improperly': 179, 'takes': 180, 'one': 181, 'assessee': 182, 'were': 183, 'bases': 184, 'conclusion': 185, 'those': 186, 'arguments.': 187, 'directors': 188, 'company,': 189, 'capaci-': 190, 'ty': 191, 'managing': 192, 'agents': 193, 'certain': 194, ',mills,': 195, 'had': 196, 'drawn': 197, 'some': 198, 'hundis': 199, 'name': 200, 'mills,': 201, 'mills': 202, 'repudiated': 203, 'liability,': 204, 'suits': 205, 'filed': 206, 'against': 207, 'assessees.': 208, 'assessees': 209, 'thereupon': 210, 'reim-': 211, '2': 212, 'burse': 213, 'permitting': 214, 'latter.': 215, 'deduct': 216, 'moiety': 217, 'commission': 218, 'payable': 219, 'them': 220, 'agreement': 221, 'agency,': 222, 'payments': 223, 'may': 224, 'make': 225, 'decrees.': 226, 'their': 227, 'assessment': 228, 'claimed': 229, 'amounts': 230, 'so': 231, 'deducted': 232, 'should': 233, 'excluded': 234, 'assessable': 235, 'income': 236, 'business': 237, 'expendi-': 238, 'ture': 239, 's.': 240, '(2,)': 241, '(xv)': 242, 'act.': 243, 'appel-': 244, 'late': 245, 'pay': 246, 'off': 247, 'decree': 248, 'amount': 249, 'remuneration': 250, 'due': 251, 'passed': 252, 'evidently': 253, 'mis-': 254, 'feasance': 255, 'committed': 256, 'directors,': 257, 'books': 258, 'both': 259, 'companies': 260, 'showed': 261, 'assesssea': 262, 'paid': 263, 'full,': 264, 'expenditure': 265, 'laid': 266, 'out': 267, 'purpose': 268, 'carrying': 269, 'busi-': 270, 'ness,': 271, 'also': 272, 'that,': 273, 'payment': 274, 'liqui-': 275, 'dation': 276, 'debt,': 277, 'revenue': 278, 'expenditure.': 279, 'assessees’': 280, 'argued,': 281, 'relying': 282, 'mitchell': 283, 'v.': 284, 'b.': 285, 'w.': 286, 'noble': 287, 'ltd.(1),': 288, 'matie': 289, 'publicity': 290, 'action': 291, 'consequent': 292, 'exposure': 293, 'less': 294, 'reputation': 295, 'such': 296, 'deductible': 297, 'accepted': 298, 'argument': 299, 'reversed': 300, 'tribunel.': 301, 'held,': 302, 'acted': 303, 'wrongly': 304, 'accepting': 305, 'proved': 306, 'them;': 307, 'and,': 308, 'necessary': 309, 'support': 310, 'claim': 311, 'exemption': 312, 'been': 313, 'established': 314, 'stage': 315, 'case,': 316, 'entitlecl': 317, 'deduction': 318, 'claimed.': 319, '(1)': 320, '[1927j': 321, 'k.b.': 322, '719.': 323, '129': 324, '1010': 325, 'judgment': 326, 'reversed.': 327, 'jurisdiction:': 328, 'civil': 329, 'appeal': 330, 'no.': 331, '59': 332, '1950.': 333, 'judicature': 334, '(harries': 335, 'c.j.': 336, 'chatterjea': 337, 'j.)': 338, 'dated': 339, '9th': 340, 'september,': 341, '1949,': 342, 'reference': 343, 'section': 344, '66': 345, 'indian': 346, 'act,': 347, '1922.': 348, '(reference': 349, '8': 350, '1949).': 351, 'm.c.': 352, 'setalvad,': 353, 'attorney-general': 354, '(g.': 355, 'n.': 356, 'joshi,': 357, 'him)': 358, 'appellant.': 359, 'mitra': 360, '(b.': 361, 'banerjee,': 362, 'respondents.': 363, 'december': 364, '21.': 365, 'deliv-': 366, 'ered': 367, 'kania': 368, 'c.j.--this': 369, 'pronounced': 370, 'income-': 371, 'tax': 372, 'relevant': 373, 'are': 374, 'these.': 375, 'respondents': 376, 'private': 377, 'limited': 378, 'company': 379, 'brought': 380, 'existence': 381, 'float': 382, 'various': 383, 'including': 384, 'cotton': 385, 'mills.': 386, 'november,': 387, '1932,': 388, 'basanti': 389, 'incorporated': 390, 'appointed': 391, 'agents.': 392, 'fixed': 393, 'month-': 394, 'ly': 395, 'allowance': 396, 'rs.': 397, '500': 398, '3': 399, 'per': 400, 'cent.': 401, 'all': 402, 'gross': 403, 'sales': 404, 'goods': 405, 'manufactured': 406, 'company.': 407, 'monthly': 408, 'liable': 409, 'increased': 410, 'event': 411, 'capital': 412, 'being': 413, 'increased.': 414, 'details': 415, 'immaterial.': 416, 'ap-': 417, 'pears': 418, 'direc-': 419, 'tors': 420, 'respondent': 421, 'capacity': 422, 'mill': 423, 'same': 424, 'negotiated': 425, 'others.': 426, 'nath': 427, 'bank': 428, 'these': 429, 'hundis.': 430, 'liability': 431, 'appeared': 432, 'use': 433, 'sum': 434, '80,000': 435, 'instituted': 436, 'four': 437, '1011': 438, 'two': 439, 'party-defendants.': 440, 'advised': 441, 'settle': 442, 'entered': 443, 'material': 444, 'part': 445, 'terms': 446, 'runs': 447, 'follows': 448, ':--': 449, '\"memorandum': 450, 'between': 451, 'other': 452, 'part.': 453, 'whereas': 454, 'demanded': 455, '1,80,000': 456, 'interest': 457, 'thereon': 458, 'said': 459, 'respect': 460, 'thereof': 461, 'did': 462, '1,80000': 463, 'suit': 464, 'nos.': 465, '1683,': 466, '1720,': 467, '1735': 468, '1757': 469, '1939': 470, 'aggregate': 471, 'amicably': 472, 's.n.': 473, 'mitter': 474, 's.c.': 475, 'mitter,': 476, 'having': 477, 'still': 478, 'undertaken': 479, 'reimburse': 480, 'decrees': 481, 'manner': 482, 'hereinafter': 483, 'appearing': 484, 'now': 485, 'presents': 486, 'witness': 487, 'hereby': 488, 'declared': 489, '(i)': 490, '3%': 491, 'regulation': 492, '131': 493, 'arti-': 494, 'cles': 495, 'association': 496, 'shall': 497, 'paramount': 498, 'lien': 499, 'set': 500, 'and/or': 501, 'costs': 502, 'suits.': 503, '(ii)': 504, 'half': 505, 'commis-': 506, 'sion': 507, 'time': 508, 'allow': 509, 'deducted.\"': 510, 'agreement,': 511, '22,500made': 512, 'up': 513, '1012': 514, '18,107': 515, 'principal': 516, '4,393': 517, 'accounting': 518, 'year.': 519, 'before': 520, 'permitted': 521, '\"10.': 522, '\"the': 523, 'head': 524, '’profits': 525, 'gains': 526, 'business,': 527, 'profession': 528, 'vocation’': 529, 'profits': 530, 'vocation': 531, 'carried': 532, 'him’': 533, 'computed': 534, 'after': 535, 'making': 536, 'following': 537, 'allowances,': 538, 'namely': 539, '(not': 540, 'nature': 541, 'personal': 542, 'expenses': 543, 'assessee)': 544, 'expended': 545, 'wholly': 546, 'exclusively': 547, 'vocation.': 548, 'submitted': 549, 'reciting': 550, 'incorporation': 551, 'compromise': 552, 'mentioned': 553, 'above,': 554, 'argu-': 555, 'ments': 556, 'urged': 557, 'behalf': 558, '4': 559, 'recapitulated.': 560, 'first': 561, 'proviso': 562, 'exempted.': 563, 'rejected': 564, 'argument.': 565, 'reference,': 566, 'reject-': 567, 'ed': 568, 'presented': 569, 'us.': 570, 'next': 571, '22,500': 572, 'entitled': 573, '10(2)': 574, 'expend-': 575, 'iture': 576, 'applicant': 577, 'but': 578, 'business.': 579, 'agree': 580, 'amount,': 581, 'could': 582, 'realise': 583, '1013': 584, 'exposed': 585, 'public': 586, 'order': 587, 'save': 588, 'themselves': 589, 'scandal': 590, 'maintain': 591, '’the': 592, 'thereby': 593, 'within': 594, 'principles': 595, 'v.b.w.': 596, 'ltd.(1)': 597, 'facts:': 598, '’i?hat': 599, 'decretal': 600, 'enti-': 601, 'tled': 602, 'get': 603, 'remunera-': 604, 'tion.': 605, '(3)': 606, 'account': 607, 'show': 608, 'paying': 609, 'full.': 610, '(4)': 611, 'circumstances': 612, 'held': 613, '(5)': 614, 'besides,': 615, 'opinion': 616, 'ex-': 617, 'penditure': 618, 'all.': 619, 'towards': 620, 'liquidation': 621, 'payment.': 622, 'argued': 623, 'further': 624, 'alternative': 625, 'privy': 626, 'council': 627, 'raja': 628, 'bijoy': 629, 'singh': 630, 'dudhuria’s': 631, 'case(2)': 632, 'cover': 633, 'present': 634, 'case.': 635, 'contention': 636, 'perused': 637, 'suggestions': 638, 'same.': 639, 'thus': 640, 'settled': 641, 'approval': 642, 'parties.': 643, 'when': 644, 'came': 645, 'court,': 646, 'mr.': 647, 'mitra,': 648, 'who': 649, 'respondents,': 650, 'shown': 651, 'follows:--\"': 652, '[1927]': 653, '1014': 654, 'aforesaid': 655, 'then': 656, 'sued': 657, 'realisation': 658, 'seems': 659, 'there': 660, 'defence': 661, 'action.': 662, 'subjected': 663, 'danger': 664, 'itself': 665, 'main-': 666, 'tain': 667, '10(2)(xv)': 668, 'act.\"': 669, 'thereafter': 670, 'noticed': 671, 'several': 672, 'cases': 673, 'mitchell’s': 674, 'case(1)': 675, 'close': 676, '5': 677, 'delivered': 678, 'observed': 679, 'follows:--\"in': 680, 'clear': 681, 'view': 682, 'andin': 683, 'carry': 684, 'before.': 685, 'question': 686, 'bring': 687, 'new': 688, 'assets': 689, 'nor': 690, 'my': 691, 'properly': 692, 'advantage': 693, 'enduring': 694, 'benefit': 695, 'company’s': 696, 'trade.': 697, 'appellant': 698, 'compa-': 699, 'ny': 700, 'forcertain': 701, '......': 702, 'object': 703, 'enable': 704, 'remove': 705, 'defect': 706, 'earn': 707, 'covered': 708, 'mitchell’': 709, 'scase(1)': 710, '\"applying': 711, 'line': 712, 'reasoning': 713, 'differed': 714, 'allowed': 715, 'sec-': 716, 'tion': 717, 'income-tax,': 718, 'west': 719, 'bengal,': 720, 'come': 721, 'contended': 722, 'falling': 723, '10(2)(xv),': 724, 'burden': 725, 'proving': 726, '1015': 727, 'connection': 728, 'assessee,': 729, 'common': 730, 'become': 731, 'taxed': 732, 'final,': 733, 'tribu-': 734, 'nal.': 735, 'departure': 736, 'fact-finding': 737, 'judgment.': 738, 'disclosed': 739, 'note': 740, 'end': 741, 'thereof.': 742, 'facts.': 743, 'surprisingly,': 744, 'we': 745, 'find': 746, 'judgment,': 747, 'taken': 748, 'based': 749, 'solely': 750, 'nowhere': 751, 'whole': 752, 'unwar-': 753, 'ranted': 754, 'assumption': 755, 'only': 756, '6': 757, '1016': 758, 'court.': 759, 'failing': 760, 'recognise': 761, 'matters': 762, 'exercise': 763, 'illustrated': 764, 'unfortunately': 765, 'caught': 766, 'hold': 767, 'his': 768, 'circum-': 769, 'stances': 770, 'described': 771, 'ness': 772, 'instead': 773, 'ascertaining': 774, 'what': 775, 'process': 776, 'procedure': 777, 'adopted': 778, 'take': 779, 'argue': 780, 'situation.': 781, '1n': 782, 'our': 783, 'entirely': 784, 'wrong': 785, 'approach': 786, 'fell': 787, 'grave': 788, 'error': 789, 'omitting': 790, 'ascertain': 791, 'overlooked': 792, 'discussion': 793, 'started': 794, 'quotation': 795, 'commissioners': 796, 'scrutiny': 797, 'record': 798, 'shows': 799, 'officer': 800, '5,582': 801, 'permissible': 802, '(iii)': 803, 'officer.': 804, 'went': 805, 'assistant': 806, 'allowing': 807, 'entire': 808, 'portion': 809, '(viz.,': 810, '22,500)': 811, 'treated': 812, 'earned': 813, 'deemed': 814, 'all,': 815, 'regard': 816, 'paragraph': 817, 'sioner': 818, 'contains': 819, '1017': 820, ':--\"': 821, 'disallowing': 822, '(interest)': 823, 'c]aim': 824, 'prede-': 825, 'cessor': 826, '18th': 827, 'march': 828, '1942': 829, '1-c-11': 830, '1941-42.': 831, 'predecessor': 832, 'observed:': 833, '\"nothing': 834, 'sur-': 835, 'plus': 836, 'money': 837, 'invested': 838, 'need': 839, 'borrow.thus': 840, 'borrow': 841, 'established.': 842, 'doubt': 843, 'borrowed': 844, 'borrowing': 845, 'loan': 846, 'used': 847, 'cannot': 848, '10(2)(iii).\"': 849, 'second': 850, 'objection': 851, 'raised': 852, 'assist-': 853, 'ant': 854, 'allowable': 855, 'allocation': 856, 'receipt': 857, 'became': 858, 'hands': 859, 'assessee.\"': 860, 'wording': 861, 'because': 862, 'source': 863, 'reliance': 864, 'placed': 865, 'case(1).': 866, 'rejected.': 867, 'third': 868, 'stage,': 869, 'contentions': 870, 'tribunal,-he': 871, 'thought': 872, 'urging': 873, '(2)(xv)': 874, 'down': 875, 'case(2).': 876, 'evidence,': 877, 'appears,': 878, 'led': 879, 'findings': 880, 'mitch-': 881, 'ell’s': 882, 'applied.': 883, 'tribunal’s': 884, 'summarized': 885, 'earlier': 886, 'required': 887, 'mizchell’s': 888, 'case(’2)': 889, 'applied,': 890, 'proceedings': 891, 'i.t.c.': 892, '449.': 893, '130': 894, '1018': 895, 'applying': 896, 'proved.': 897, 'away,': 898, 'seems,': 899, 'coun-': 900, 'sel': 901, 'through': 902, 'indeed,': 903, 'seen': 904, 'once': 905, 'measure': 906, 'conflicting': 907, 'footing': 908, 'interest,': 909, 'sought': 910, 'opinion,': 911, 'therefore,': 912, 'simple': 913, 'neces-': 914, 'sary': 915, '10(2)(xv)of': 916, 'here': 917, 'allowed,': 918, 'agent': 919, 'appellant:': 920, 'p.a.': 921, 'mehta.': 922, 'respondents:': 923, 'ganpat': 924, 'rai.': 925, 'k.p,.': 926, '719': 927}\n"
     ]
    }
   ],
   "source": [
    "vocab, index = {}, 1  # start indexing from 1\n",
    "vocab['<pad>'] = 0  # add a padding token\n",
    "for token in tokens:\n",
    "  if token not in vocab:\n",
    "    vocab[token] = index\n",
    "    index += 1\n",
    "vocab_size = len(vocab)\n",
    "print(vocab)"
   ]
  },
  {
   "cell_type": "code",
   "execution_count": 46,
   "id": "99ba5ea2",
   "metadata": {},
   "outputs": [
    {
     "name": "stdout",
     "output_type": "stream",
     "text": [
      "{0: '<pad>', 1: 'http://judis.nic.in', 2: 'supreme', 3: 'court', 4: 'of', 5: 'india', 6: 'page', 7: '1', 8: '7', 9: 'petitioner:', 10: 'commissioner', 11: 'income-tax,west', 12: 'bengal', 13: 'vs.', 14: 'respondent:', 15: 'calcutta', 16: 'agency', 17: 'ltd.', 18: 'date', 19: 'judgment:', 20: '21/12/1950', 21: 'bench:', 22: 'kania,', 23: 'hiralal', 24: 'j.', 25: '(cj)', 26: 'sastri,', 27: 'm.', 28: 'patanjali', 29: 'das,', 30: 'sudhi', 31: 'ranjan', 32: 'citation:', 33: '1951', 34: 'air', 35: '108', 36: '1950', 37: 'scr', 38: '1008', 39: 'citator', 40: 'info', 41: ':', 42: 'd', 43: '1965', 44: 'sc1905', 45: '(6)', 46: 'r', 47: '1976', 48: 'sc', 49: '772', 50: 'act:', 51: 'lndian', 52: 'income-tax', 53: 'act', 54: '(xi', 55: '1922),', 56: 'ss.', 57: '10', 58: '(2)', 59: '(xv),', 60: '66--reference--jurisdiction', 61: 'high', 62: 'court--duty', 63: 'to', 64: 'decide', 65: 'case', 66: 'on', 67: 'facts', 68: 'stated', 69: 'by', 70: 'tribunal--accepting', 71: 'arguments', 72: 'counsel', 73: 'as', 74: 'poved', 75: 'and', 76: 'basing', 77: 'decision', 78: 'them,', 79: 'impro-', 80: 'priety', 81: 'of--buisness', 82: 'expenditure-payments', 83: 'avoid', 84: 'disclosure', 85: 'misfeasance', 86: 'directors--burden', 87: 'proof', 88: 'headnote:', 89: 'the', 90: 'jurisdiction', 91: 'in', 92: 'matter', 93: 'mooroetax', 94: 'references', 95: 'is', 96: 'an', 97: 'advisory', 98: 'under', 99: 'incometax', 100: 'appellate', 101: 'tribunal', 102: 'final', 103: 'unless', 104: 'it', 105: 'can', 106: 'be', 107: 'successfully', 108: 'assailed', 109: 'ground', 110: 'that', 111: 'thoro', 112: 'was', 113: '1009', 114: 'no', 115: 'evidence', 116: 'for', 117: 'conclusions', 118: 'recorded', 119: 'tribunal.', 120: 'therefore', 121: 'duty', 122: 'start', 123: 'looking', 124: 'at', 125: 'found', 126: 'answer', 127: 'questions', 128: 'law', 129: 'footing.', 130: 'not', 131: 'proper', 132: 'depart', 133: 'from', 134: 'this', 135: 'rule', 136: 'will', 137: 'convert', 138: 'into', 139: 'a', 140: 'fact', 141: 'finding', 142: 'authority,', 143: 'which', 144: 'not,', 145: 'jurisdiction.', 146: 'statement', 147: 'tile', 148: 'prepared', 149: 'accodance', 150: 'with', 151: 'rules', 152: 'framed', 153: 'in-', 154: 'come-tax', 155: 'knowledge', 156: 'parties', 157: 'concerned', 158: 'they', 159: 'have', 160: 'full', 161: 'opportunity', 162: 'apply', 163: 'any', 164: 'addition', 165: 'or', 166: 'deletion', 167: 'statement,', 168: 'if', 169: 'approved', 170: 'made', 171: 'tribunal,', 172: 'agreed', 173: 'has', 174: 'pronounce', 175: 'its', 176: 'judgment.’', 177: 'would', 178: 'acting', 179: 'improperly', 180: 'takes', 181: 'one', 182: 'assessee', 183: 'were', 184: 'bases', 185: 'conclusion', 186: 'those', 187: 'arguments.', 188: 'directors', 189: 'company,', 190: 'capaci-', 191: 'ty', 192: 'managing', 193: 'agents', 194: 'certain', 195: ',mills,', 196: 'had', 197: 'drawn', 198: 'some', 199: 'hundis', 200: 'name', 201: 'mills,', 202: 'mills', 203: 'repudiated', 204: 'liability,', 205: 'suits', 206: 'filed', 207: 'against', 208: 'assessees.', 209: 'assessees', 210: 'thereupon', 211: 'reim-', 212: '2', 213: 'burse', 214: 'permitting', 215: 'latter.', 216: 'deduct', 217: 'moiety', 218: 'commission', 219: 'payable', 220: 'them', 221: 'agreement', 222: 'agency,', 223: 'payments', 224: 'may', 225: 'make', 226: 'decrees.', 227: 'their', 228: 'assessment', 229: 'claimed', 230: 'amounts', 231: 'so', 232: 'deducted', 233: 'should', 234: 'excluded', 235: 'assessable', 236: 'income', 237: 'business', 238: 'expendi-', 239: 'ture', 240: 's.', 241: '(2,)', 242: '(xv)', 243: 'act.', 244: 'appel-', 245: 'late', 246: 'pay', 247: 'off', 248: 'decree', 249: 'amount', 250: 'remuneration', 251: 'due', 252: 'passed', 253: 'evidently', 254: 'mis-', 255: 'feasance', 256: 'committed', 257: 'directors,', 258: 'books', 259: 'both', 260: 'companies', 261: 'showed', 262: 'assesssea', 263: 'paid', 264: 'full,', 265: 'expenditure', 266: 'laid', 267: 'out', 268: 'purpose', 269: 'carrying', 270: 'busi-', 271: 'ness,', 272: 'also', 273: 'that,', 274: 'payment', 275: 'liqui-', 276: 'dation', 277: 'debt,', 278: 'revenue', 279: 'expenditure.', 280: 'assessees’', 281: 'argued,', 282: 'relying', 283: 'mitchell', 284: 'v.', 285: 'b.', 286: 'w.', 287: 'noble', 288: 'ltd.(1),', 289: 'matie', 290: 'publicity', 291: 'action', 292: 'consequent', 293: 'exposure', 294: 'less', 295: 'reputation', 296: 'such', 297: 'deductible', 298: 'accepted', 299: 'argument', 300: 'reversed', 301: 'tribunel.', 302: 'held,', 303: 'acted', 304: 'wrongly', 305: 'accepting', 306: 'proved', 307: 'them;', 308: 'and,', 309: 'necessary', 310: 'support', 311: 'claim', 312: 'exemption', 313: 'been', 314: 'established', 315: 'stage', 316: 'case,', 317: 'entitlecl', 318: 'deduction', 319: 'claimed.', 320: '(1)', 321: '[1927j', 322: 'k.b.', 323: '719.', 324: '129', 325: '1010', 326: 'judgment', 327: 'reversed.', 328: 'jurisdiction:', 329: 'civil', 330: 'appeal', 331: 'no.', 332: '59', 333: '1950.', 334: 'judicature', 335: '(harries', 336: 'c.j.', 337: 'chatterjea', 338: 'j.)', 339: 'dated', 340: '9th', 341: 'september,', 342: '1949,', 343: 'reference', 344: 'section', 345: '66', 346: 'indian', 347: 'act,', 348: '1922.', 349: '(reference', 350: '8', 351: '1949).', 352: 'm.c.', 353: 'setalvad,', 354: 'attorney-general', 355: '(g.', 356: 'n.', 357: 'joshi,', 358: 'him)', 359: 'appellant.', 360: 'mitra', 361: '(b.', 362: 'banerjee,', 363: 'respondents.', 364: 'december', 365: '21.', 366: 'deliv-', 367: 'ered', 368: 'kania', 369: 'c.j.--this', 370: 'pronounced', 371: 'income-', 372: 'tax', 373: 'relevant', 374: 'are', 375: 'these.', 376: 'respondents', 377: 'private', 378: 'limited', 379: 'company', 380: 'brought', 381: 'existence', 382: 'float', 383: 'various', 384: 'including', 385: 'cotton', 386: 'mills.', 387: 'november,', 388: '1932,', 389: 'basanti', 390: 'incorporated', 391: 'appointed', 392: 'agents.', 393: 'fixed', 394: 'month-', 395: 'ly', 396: 'allowance', 397: 'rs.', 398: '500', 399: '3', 400: 'per', 401: 'cent.', 402: 'all', 403: 'gross', 404: 'sales', 405: 'goods', 406: 'manufactured', 407: 'company.', 408: 'monthly', 409: 'liable', 410: 'increased', 411: 'event', 412: 'capital', 413: 'being', 414: 'increased.', 415: 'details', 416: 'immaterial.', 417: 'ap-', 418: 'pears', 419: 'direc-', 420: 'tors', 421: 'respondent', 422: 'capacity', 423: 'mill', 424: 'same', 425: 'negotiated', 426: 'others.', 427: 'nath', 428: 'bank', 429: 'these', 430: 'hundis.', 431: 'liability', 432: 'appeared', 433: 'use', 434: 'sum', 435: '80,000', 436: 'instituted', 437: 'four', 438: '1011', 439: 'two', 440: 'party-defendants.', 441: 'advised', 442: 'settle', 443: 'entered', 444: 'material', 445: 'part', 446: 'terms', 447: 'runs', 448: 'follows', 449: ':--', 450: '\"memorandum', 451: 'between', 452: 'other', 453: 'part.', 454: 'whereas', 455: 'demanded', 456: '1,80,000', 457: 'interest', 458: 'thereon', 459: 'said', 460: 'respect', 461: 'thereof', 462: 'did', 463: '1,80000', 464: 'suit', 465: 'nos.', 466: '1683,', 467: '1720,', 468: '1735', 469: '1757', 470: '1939', 471: 'aggregate', 472: 'amicably', 473: 's.n.', 474: 'mitter', 475: 's.c.', 476: 'mitter,', 477: 'having', 478: 'still', 479: 'undertaken', 480: 'reimburse', 481: 'decrees', 482: 'manner', 483: 'hereinafter', 484: 'appearing', 485: 'now', 486: 'presents', 487: 'witness', 488: 'hereby', 489: 'declared', 490: '(i)', 491: '3%', 492: 'regulation', 493: '131', 494: 'arti-', 495: 'cles', 496: 'association', 497: 'shall', 498: 'paramount', 499: 'lien', 500: 'set', 501: 'and/or', 502: 'costs', 503: 'suits.', 504: '(ii)', 505: 'half', 506: 'commis-', 507: 'sion', 508: 'time', 509: 'allow', 510: 'deducted.\"', 511: 'agreement,', 512: '22,500made', 513: 'up', 514: '1012', 515: '18,107', 516: 'principal', 517: '4,393', 518: 'accounting', 519: 'year.', 520: 'before', 521: 'permitted', 522: '\"10.', 523: '\"the', 524: 'head', 525: '’profits', 526: 'gains', 527: 'business,', 528: 'profession', 529: 'vocation’', 530: 'profits', 531: 'vocation', 532: 'carried', 533: 'him’', 534: 'computed', 535: 'after', 536: 'making', 537: 'following', 538: 'allowances,', 539: 'namely', 540: '(not', 541: 'nature', 542: 'personal', 543: 'expenses', 544: 'assessee)', 545: 'expended', 546: 'wholly', 547: 'exclusively', 548: 'vocation.', 549: 'submitted', 550: 'reciting', 551: 'incorporation', 552: 'compromise', 553: 'mentioned', 554: 'above,', 555: 'argu-', 556: 'ments', 557: 'urged', 558: 'behalf', 559: '4', 560: 'recapitulated.', 561: 'first', 562: 'proviso', 563: 'exempted.', 564: 'rejected', 565: 'argument.', 566: 'reference,', 567: 'reject-', 568: 'ed', 569: 'presented', 570: 'us.', 571: 'next', 572: '22,500', 573: 'entitled', 574: '10(2)', 575: 'expend-', 576: 'iture', 577: 'applicant', 578: 'but', 579: 'business.', 580: 'agree', 581: 'amount,', 582: 'could', 583: 'realise', 584: '1013', 585: 'exposed', 586: 'public', 587: 'order', 588: 'save', 589: 'themselves', 590: 'scandal', 591: 'maintain', 592: '’the', 593: 'thereby', 594: 'within', 595: 'principles', 596: 'v.b.w.', 597: 'ltd.(1)', 598: 'facts:', 599: '’i?hat', 600: 'decretal', 601: 'enti-', 602: 'tled', 603: 'get', 604: 'remunera-', 605: 'tion.', 606: '(3)', 607: 'account', 608: 'show', 609: 'paying', 610: 'full.', 611: '(4)', 612: 'circumstances', 613: 'held', 614: '(5)', 615: 'besides,', 616: 'opinion', 617: 'ex-', 618: 'penditure', 619: 'all.', 620: 'towards', 621: 'liquidation', 622: 'payment.', 623: 'argued', 624: 'further', 625: 'alternative', 626: 'privy', 627: 'council', 628: 'raja', 629: 'bijoy', 630: 'singh', 631: 'dudhuria’s', 632: 'case(2)', 633: 'cover', 634: 'present', 635: 'case.', 636: 'contention', 637: 'perused', 638: 'suggestions', 639: 'same.', 640: 'thus', 641: 'settled', 642: 'approval', 643: 'parties.', 644: 'when', 645: 'came', 646: 'court,', 647: 'mr.', 648: 'mitra,', 649: 'who', 650: 'respondents,', 651: 'shown', 652: 'follows:--\"', 653: '[1927]', 654: '1014', 655: 'aforesaid', 656: 'then', 657: 'sued', 658: 'realisation', 659: 'seems', 660: 'there', 661: 'defence', 662: 'action.', 663: 'subjected', 664: 'danger', 665: 'itself', 666: 'main-', 667: 'tain', 668: '10(2)(xv)', 669: 'act.\"', 670: 'thereafter', 671: 'noticed', 672: 'several', 673: 'cases', 674: 'mitchell’s', 675: 'case(1)', 676: 'close', 677: '5', 678: 'delivered', 679: 'observed', 680: 'follows:--\"in', 681: 'clear', 682: 'view', 683: 'andin', 684: 'carry', 685: 'before.', 686: 'question', 687: 'bring', 688: 'new', 689: 'assets', 690: 'nor', 691: 'my', 692: 'properly', 693: 'advantage', 694: 'enduring', 695: 'benefit', 696: 'company’s', 697: 'trade.', 698: 'appellant', 699: 'compa-', 700: 'ny', 701: 'forcertain', 702: '......', 703: 'object', 704: 'enable', 705: 'remove', 706: 'defect', 707: 'earn', 708: 'covered', 709: 'mitchell’', 710: 'scase(1)', 711: '\"applying', 712: 'line', 713: 'reasoning', 714: 'differed', 715: 'allowed', 716: 'sec-', 717: 'tion', 718: 'income-tax,', 719: 'west', 720: 'bengal,', 721: 'come', 722: 'contended', 723: 'falling', 724: '10(2)(xv),', 725: 'burden', 726: 'proving', 727: '1015', 728: 'connection', 729: 'assessee,', 730: 'common', 731: 'become', 732: 'taxed', 733: 'final,', 734: 'tribu-', 735: 'nal.', 736: 'departure', 737: 'fact-finding', 738: 'judgment.', 739: 'disclosed', 740: 'note', 741: 'end', 742: 'thereof.', 743: 'facts.', 744: 'surprisingly,', 745: 'we', 746: 'find', 747: 'judgment,', 748: 'taken', 749: 'based', 750: 'solely', 751: 'nowhere', 752: 'whole', 753: 'unwar-', 754: 'ranted', 755: 'assumption', 756: 'only', 757: '6', 758: '1016', 759: 'court.', 760: 'failing', 761: 'recognise', 762: 'matters', 763: 'exercise', 764: 'illustrated', 765: 'unfortunately', 766: 'caught', 767: 'hold', 768: 'his', 769: 'circum-', 770: 'stances', 771: 'described', 772: 'ness', 773: 'instead', 774: 'ascertaining', 775: 'what', 776: 'process', 777: 'procedure', 778: 'adopted', 779: 'take', 780: 'argue', 781: 'situation.', 782: '1n', 783: 'our', 784: 'entirely', 785: 'wrong', 786: 'approach', 787: 'fell', 788: 'grave', 789: 'error', 790: 'omitting', 791: 'ascertain', 792: 'overlooked', 793: 'discussion', 794: 'started', 795: 'quotation', 796: 'commissioners', 797: 'scrutiny', 798: 'record', 799: 'shows', 800: 'officer', 801: '5,582', 802: 'permissible', 803: '(iii)', 804: 'officer.', 805: 'went', 806: 'assistant', 807: 'allowing', 808: 'entire', 809: 'portion', 810: '(viz.,', 811: '22,500)', 812: 'treated', 813: 'earned', 814: 'deemed', 815: 'all,', 816: 'regard', 817: 'paragraph', 818: 'sioner', 819: 'contains', 820: '1017', 821: ':--\"', 822: 'disallowing', 823: '(interest)', 824: 'c]aim', 825: 'prede-', 826: 'cessor', 827: '18th', 828: 'march', 829: '1942', 830: '1-c-11', 831: '1941-42.', 832: 'predecessor', 833: 'observed:', 834: '\"nothing', 835: 'sur-', 836: 'plus', 837: 'money', 838: 'invested', 839: 'need', 840: 'borrow.thus', 841: 'borrow', 842: 'established.', 843: 'doubt', 844: 'borrowed', 845: 'borrowing', 846: 'loan', 847: 'used', 848: 'cannot', 849: '10(2)(iii).\"', 850: 'second', 851: 'objection', 852: 'raised', 853: 'assist-', 854: 'ant', 855: 'allowable', 856: 'allocation', 857: 'receipt', 858: 'became', 859: 'hands', 860: 'assessee.\"', 861: 'wording', 862: 'because', 863: 'source', 864: 'reliance', 865: 'placed', 866: 'case(1).', 867: 'rejected.', 868: 'third', 869: 'stage,', 870: 'contentions', 871: 'tribunal,-he', 872: 'thought', 873: 'urging', 874: '(2)(xv)', 875: 'down', 876: 'case(2).', 877: 'evidence,', 878: 'appears,', 879: 'led', 880: 'findings', 881: 'mitch-', 882: 'ell’s', 883: 'applied.', 884: 'tribunal’s', 885: 'summarized', 886: 'earlier', 887: 'required', 888: 'mizchell’s', 889: 'case(’2)', 890: 'applied,', 891: 'proceedings', 892: 'i.t.c.', 893: '449.', 894: '130', 895: '1018', 896: 'applying', 897: 'proved.', 898: 'away,', 899: 'seems,', 900: 'coun-', 901: 'sel', 902: 'through', 903: 'indeed,', 904: 'seen', 905: 'once', 906: 'measure', 907: 'conflicting', 908: 'footing', 909: 'interest,', 910: 'sought', 911: 'opinion,', 912: 'therefore,', 913: 'simple', 914: 'neces-', 915: 'sary', 916: '10(2)(xv)of', 917: 'here', 918: 'allowed,', 919: 'agent', 920: 'appellant:', 921: 'p.a.', 922: 'mehta.', 923: 'respondents:', 924: 'ganpat', 925: 'rai.', 926: 'k.p,.', 927: '719'}\n"
     ]
    }
   ],
   "source": [
    "inverse_vocab = {index: token for token, index in vocab.items()}\n",
    "print(inverse_vocab)"
   ]
  },
  {
   "cell_type": "code",
   "execution_count": 47,
   "id": "85181b6f",
   "metadata": {},
   "outputs": [
    {
     "name": "stdout",
     "output_type": "stream",
     "text": [
      "[1, 2, 3, 4, 5, 6, 7, 4, 8, 9, 10, 4, 11, 12, 13, 14, 15, 16, 17, 18, 4, 19, 20, 21, 22, 23, 24, 25, 21, 22, 23, 24, 25, 26, 27, 28, 29, 30, 31, 32, 33, 34, 35, 36, 37, 38, 39, 40, 41, 42, 43, 44, 45, 46, 47, 48, 49, 45, 50, 51, 52, 53, 54, 4, 55, 56, 57, 58, 59, 60, 4, 61, 62, 63, 64, 65, 66, 67, 68, 69, 70, 71, 4, 72, 73, 74, 67, 75, 76, 77, 66, 78, 79, 80, 81, 82, 63, 83, 84, 4, 85, 4, 86, 4, 87, 88, 89, 90, 4, 89, 61, 3, 91, 89, 92, 4, 93, 94, 95, 96, 97, 90, 75, 98, 89, 99, 53, 89, 77, 4, 89, 100, 101, 66, 67, 95, 102, 103, 104, 105, 106, 107, 108, 66, 89, 109, 110, 111, 112, 113, 114, 115, 116, 89, 117, 66, 67, 118, 69, 89, 119, 104, 95, 120, 89, 121, 4, 89, 61, 3, 63, 122, 69, 123, 124, 89, 67, 125, 69, 89, 101, 75, 126, 89, 127, 4, 128, 66, 110, 129, 104, 95, 130, 131, 63, 132, 133, 134, 135, 4, 128, 73, 104, 136, 137, 89, 61, 3, 138, 139, 140, 141, 142, 143, 104, 95, 144, 98, 89, 97, 145, 73, 89, 146, 4, 147, 65, 148, 69, 89, 100, 101, 91, 149, 150, 89, 151, 152, 98, 89, 153, 154, 53, 95, 148, 150, 89, 155, 4, 89, 156, 157, 75, 158, 159, 160, 161, 63, 162, 116, 163, 164, 165, 166, 133, 110, 167, 168, 158, 159, 169, 4, 89, 146, 170, 69, 89, 171, 104, 95, 89, 172, 146, 4, 67, 69, 89, 156, 66, 143, 89, 61, 3, 173, 63, 174, 175, 176, 89, 61, 3, 177, 106, 178, 179, 168, 104, 180, 89, 71, 181, 4, 89, 72, 116, 89, 182, 73, 168, 158, 183, 67, 75, 184, 175, 185, 66, 186, 187, 181, 4, 89, 188, 4, 89, 182, 189, 178, 91, 89, 190, 191, 4, 192, 193, 4, 194, 195, 196, 197, 198, 199, 91, 89, 200, 4, 89, 201, 75, 73, 89, 202, 203, 204, 205, 183, 206, 66, 89, 199, 207, 89, 202, 75, 89, 208, 89, 209, 210, 172, 63, 211, 1, 2, 3, 4, 5, 6, 212, 4, 8, 213, 89, 202, 69, 214, 89, 215, 63, 216, 139, 217, 4, 89, 218, 219, 63, 220, 98, 89, 221, 4, 192, 222, 207, 223, 143, 89, 202, 224, 159, 63, 225, 98, 89, 226, 91, 227, 228, 63, 52, 89, 209, 229, 110, 89, 230, 231, 232, 233, 106, 234, 133, 227, 235, 236, 73, 237, 238, 239, 98, 240, 57, 241, 242, 4, 89, 99, 243, 89, 244, 245, 101, 125, 110, 89, 209, 196, 172, 63, 246, 247, 89, 248, 249, 133, 89, 250, 251, 63, 78, 110, 89, 248, 112, 252, 207, 220, 253, 116, 198, 254, 255, 256, 69, 227, 257, 110, 89, 258, 4, 259, 260, 261, 110, 89, 262, 183, 263, 227, 250, 91, 264, 75, 110, 89, 265, 112, 130, 120, 266, 267, 116, 89, 268, 4, 269, 66, 89, 270, 271, 75, 272, 273, 73, 89, 274, 112, 170, 116, 89, 275, 276, 4, 139, 277, 104, 112, 130, 139, 278, 279, 91, 89, 61, 3, 89, 280, 72, 281, 282, 66, 89, 65, 4, 283, 284, 285, 286, 287, 288, 110, 89, 223, 183, 289, 69, 89, 209, 63, 83, 89, 290, 4, 96, 291, 207, 220, 75, 89, 292, 293, 75, 294, 4, 295, 73, 139, 192, 16, 189, 75, 73, 296, 89, 223, 183, 297, 73, 237, 279, 89, 61, 3, 298, 134, 299, 75, 300, 89, 77, 4, 89, 301, 302, 110, 89, 61, 3, 303, 304, 91, 305, 89, 71, 4, 89, 280, 72, 73, 168, 158, 183, 306, 67, 75, 76, 175, 77, 66, 307, 308, 73, 89, 67, 309, 63, 310, 89, 311, 116, 312, 98, 240, 57, 58, 242, 196, 130, 313, 314, 124, 163, 315, 4, 89, 316, 89, 209, 183, 130, 317, 63, 89, 318, 319, 320, 321, 7, 322, 323, 324, 325, 326, 4, 89, 15, 61, 3, 327, 19, 100, 328, 329, 330, 331, 332, 4, 333, 330, 133, 139, 326, 4, 89, 61, 3, 4, 334, 124, 15, 335, 336, 75, 337, 338, 339, 340, 341, 342, 91, 139, 343, 98, 344, 345, 58, 4, 89, 346, 52, 347, 348, 349, 331, 350, 4, 351, 352, 353, 354, 116, 5, 355, 356, 357, 150, 358, 116, 89, 359, 240, 360, 361, 362, 150, 358, 116, 89, 363, 333, 364, 365, 89, 326, 4, 89, 3, 112, 366, 367, 69, 368, 369, 95, 96, 330, 133, 89, 326, 4, 89, 61, 3, 124, 15, 335, 336, 75, 337, 338, 370, 66, 139, 343, 170, 63, 104, 69, 89, 371, 372, 101, 98, 344, 345, 58, 4, 89, 346, 371, 372, 243, 89, 373, 67, 374, 375, 89, 376, 374, 139, 377, 378, 379, 143, 112, 380, 138, 381, 63, 382, 383, 260, 384, 385, 386, 91, 387, 388, 89, 389, 385, 202, 17, 112, 390, 75, 89, 376, 183, 391, 227, 192, 392, 227, 250, 112, 393, 124, 139, 394, 395, 396, 4, 397, 398, 75, 139, 218, 4, 399, 400, 401, 66, 402, 403, 404, 4, 405, 406, 69, 89, 202, 407, 89, 393, 408, 396, 112, 409, 63, 106, 410, 91, 89, 411, 4, 89, 412, 4, 89, 379, 413, 414, 89, 415, 374, 416, 104, 417, 418, 110, 194, 199, 183, 197, 69, 181, 4, 89, 419, 420, 4, 89, 421, 189, 178, 91, 89, 422, 4, 1, 2, 3, 4, 5, 6, 399, 4, 8, 89, 192, 193, 4, 89, 423, 189, 91, 89, 200, 4, 89, 423, 379, 75, 89, 424, 183, 425, 63, 426, 89, 427, 428, 17, 229, 274, 4, 429, 430, 89, 423, 379, 203, 175, 431, 73, 104, 432, 133, 89, 258, 4, 89, 423, 379, 110, 158, 196, 130, 89, 433, 4, 89, 434, 4, 397, 7, 435, 229, 69, 89, 427, 428, 17, 98, 89, 430, 89, 427, 428, 17, 436, 437, 205, 438, 207, 89, 423, 189, 91, 439, 4, 143, 89, 421, 379, 183, 440, 89, 423, 379, 112, 441, 63, 442, 89, 205, 75, 89, 421, 379, 443, 138, 96, 221, 150, 89, 423, 189, 89, 444, 445, 4, 89, 446, 4, 143, 447, 73, 448, 449, 450, 4, 221, 170, 451, 89, 15, 16, 378, 4, 89, 181, 445, 75, 389, 385, 202, 17, 4, 89, 452, 453, 454, 89, 427, 428, 378, 455, 133, 89, 202, 89, 274, 4, 89, 434, 4, 397, 456, 75, 457, 458, 75, 454, 89, 459, 202, 203, 227, 431, 91, 460, 461, 73, 104, 432, 133, 89, 258, 4, 89, 459, 202, 110, 89, 459, 202, 462, 130, 159, 89, 433, 4, 89, 459, 434, 4, 397, 463, 165, 163, 445, 461, 75, 454, 89, 459, 427, 428, 17, 210, 436, 437, 205, 91, 61, 3, 413, 464, 465, 466, 467, 468, 75, 469, 4, 470, 116, 89, 459, 471, 434, 4, 397, 456, 75, 89, 457, 458, 75, 454, 89, 459, 202, 159, 313, 441, 63, 442, 89, 459, 205, 472, 75, 454, 89, 15, 16, 378, 69, 175, 257, 473, 474, 165, 475, 476, 477, 313, 75, 413, 478, 89, 192, 193, 4, 89, 459, 202, 159, 479, 63, 480, 89, 459, 202, 91, 460, 4, 89, 481, 63, 106, 170, 91, 89, 459, 437, 205, 91, 89, 482, 483, 484, 485, 429, 486, 487, 75, 104, 95, 488, 172, 75, 489, 490, 110, 267, 4, 89, 218, 4, 491, 219, 69, 89, 459, 202, 63, 89, 459, 16, 98, 492, 493, 4, 89, 494, 495, 4, 496, 4, 89, 189, 89, 379, 497, 159, 498, 499, 66, 75, 216, 75, 500, 247, 139, 217, 461, 207, 163, 274, 143, 89, 459, 202, 224, 225, 91, 460, 4, 89, 481, 165, 163, 4, 220, 501, 502, 4, 89, 459, 503, 504, 89, 459, 217, 497, 106, 181, 505, 4, 89, 506, 507, 231, 219, 294, 296, 434, 73, 89, 188, 4, 89, 202, 224, 133, 508, 63, 508, 509, 63, 106, 510, 98, 89, 459, 511, 89, 421, 379, 263, 63, 89, 423, 379, 397, 512, 513, 4, 514, 397, 515, 73, 516, 75, 397, 517, 73, 457, 91, 89, 518, 519, 89, 182, 379, 229, 134, 520, 89, 52, 100, 101, 73, 139, 318, 521, 98, 344, 57, 58, 242, 4, 89, 346, 52, 243, 89, 373, 445, 4, 110, 344, 447, 73, 448, 449, 522, 320, 523, 372, 497, 106, 219, 69, 96, 182, 98, 89, 524, 525, 75, 526, 4, 527, 528, 165, 529, 91, 460, 4, 89, 530, 165, 526, 4, 163, 270, 271, 528, 165, 531, 532, 66, 69, 533, 58, 296, 530, 165, 526, 497, 106, 534, 535, 536, 89, 537, 538, 539, 449, 242, 163, 265, 540, 413, 91, 89, 541, 4, 412, 265, 165, 542, 543, 4, 89, 544, 266, 267, 165, 545, 546, 75, 547, 116, 89, 268, 4, 296, 527, 528, 165, 548, 91, 89, 146, 4, 89, 65, 549, 69, 89, 101, 535, 550, 89, 140, 4, 89, 551, 4, 89, 379, 75, 89, 446, 4, 89, 552, 553, 554, 89, 555, 556, 557, 66, 558, 4, 89, 182, 379, 159, 313, 1, 2, 3, 4, 5, 6, 559, 4, 8, 560, 89, 561, 299, 112, 110, 98, 89, 561, 562, 63, 344, 8, 4, 89, 346, 52, 347, 134, 274, 112, 409, 63, 106, 563, 89, 101, 564, 110, 565, 66, 89, 566, 89, 61, 3, 272, 567, 568, 89, 424, 75, 104, 112, 130, 569, 520, 570, 89, 571, 299, 4, 89, 376, 112, 110, 91, 460, 4, 397, 572, 104, 112, 573, 63, 312, 98, 344, 574, 242, 4, 89, 52, 53, 66, 89, 109, 110, 89, 274, 112, 96, 265, 143, 112, 130, 91, 89, 541, 4, 139, 412, 575, 576, 165, 542, 543, 4, 89, 577, 379, 578, 112, 96, 265, 266, 267, 546, 75, 547, 116, 89, 268, 4, 175, 579, 158, 557, 110, 168, 89, 577, 379, 462, 130, 580, 63, 246, 134, 581, 389, 385, 202, 17, 582, 159, 380, 139, 464, 207, 89, 379, 63, 583, 134, 249, 251, 66, 89, 199, 143, 177, 584, 159, 585, 89, 577, 379, 63, 89, 586, 75, 91, 587, 63, 588, 589, 133, 89, 590, 75, 591, 89, 192, 16, 158, 172, 63, 592, 318, 4, 4, 194, 230, 133, 89, 192, 16, 218, 251, 63, 104, 75, 593, 380, 104, 594, 89, 595, 4, 89, 77, 4, 283, 596, 287, 597, 89, 101, 125, 73, 598, 320, 599, 89, 577, 379, 172, 63, 246, 247, 89, 600, 249, 133, 89, 250, 143, 158, 374, 601, 602, 63, 603, 133, 89, 389, 385, 386, 58, 89, 248, 112, 252, 207, 89, 577, 379, 253, 116, 194, 85, 256, 69, 175, 188, 75, 89, 577, 379, 172, 63, 246, 104, 247, 133, 175, 604, 605, 606, 89, 258, 4, 607, 4, 389, 385, 202, 17, 177, 608, 110, 158, 183, 609, 89, 577, 379, 91, 160, 175, 250, 75, 89, 258, 4, 89, 577, 379, 272, 608, 110, 104, 112, 573, 63, 175, 250, 91, 610, 611, 91, 89, 612, 89, 101, 613, 110, 89, 238, 239, 112, 130, 266, 267, 546, 75, 547, 116, 89, 268, 4, 269, 66, 89, 579, 614, 615, 89, 101, 112, 4, 89, 616, 110, 91, 134, 65, 104, 112, 130, 139, 278, 617, 618, 124, 619, 73, 89, 274, 196, 63, 106, 170, 620, 621, 4, 89, 600, 249, 89, 101, 302, 91, 89, 612, 4, 134, 316, 110, 104, 112, 139, 412, 622, 66, 558, 4, 89, 421, 104, 112, 623, 91, 89, 624, 625, 110, 89, 626, 627, 77, 91, 628, 629, 630, 631, 632, 177, 633, 89, 634, 635, 110, 636, 112, 564, 69, 89, 119, 134, 146, 4, 89, 65, 148, 69, 89, 99, 101, 75, 549, 63, 89, 61, 3, 116, 175, 616, 112, 637, 69, 89, 156, 75, 158, 196, 114, 638, 63, 225, 91, 460, 4, 89, 639, 89, 146, 4, 89, 65, 112, 640, 641, 150, 89, 155, 75, 642, 4, 89, 643, 644, 89, 92, 645, 520, 89, 61, 646, 647, 648, 649, 623, 89, 65, 116, 89, 634, 650, 73, 651, 69, 89, 326, 4, 89, 61, 646, 557, 73, 652, 168, 89, 577, 379, 196, 130, 172, 63, 246, 89, 249, 553, 653, 7, 322, 323, 654, 91, 89, 655, 511, 656, 89, 389, 385, 202, 17, 177, 159, 657, 89, 379, 116, 89, 658, 4, 89, 230, 251, 66, 89, 199, 75, 104, 659, 110, 660, 177, 159, 313, 114, 661, 63, 89, 662, 134, 177, 159, 663, 89, 577, 379, 63, 89, 664, 4, 586, 293, 75, 91, 587, 63, 588, 665, 133, 89, 590, 75, 91, 587, 63, 666, 667, 89, 192, 222, 89, 577, 379, 172, 63, 216, 194, 230, 133, 89, 192, 16, 218, 75, 120, 296, 265, 645, 594, 344, 668, 4, 89, 669, 89, 61, 3, 670, 671, 672, 673, 384, 674, 675, 75, 620, 89, 676, 4, 1, 2, 3, 4, 5, 6, 677, 4, 8, 89, 326, 678, 69, 337, 24, 679, 73, 680, 134, 65, 104, 95, 681, 110, 89, 221, 112, 443, 138, 150, 139, 682, 63, 83, 89, 290, 4, 96, 291, 207, 89, 192, 193, 75, 292, 293, 75, 590, 683, 587, 63, 591, 89, 192, 16, 231, 110, 89, 379, 582, 684, 66, 175, 237, 73, 685, 89, 274, 91, 686, 462, 130, 687, 91, 163, 688, 689, 138, 381, 690, 91, 691, 616, 105, 104, 692, 106, 459, 110, 104, 380, 138, 381, 96, 693, 116, 89, 694, 695, 4, 89, 696, 697, 89, 100, 101, 679, 110, 89, 248, 112, 253, 252, 207, 89, 698, 699, 700, 701, 85, 69, 175, 188, 75, 89, 698, 379, 172, 63, 246, 104, 247, 133, 175, 250, 702, 89, 703, 4, 89, 221, 112, 63, 704, 89, 379, 63, 705, 139, 706, 91, 269, 66, 89, 237, 4, 89, 379, 75, 63, 707, 530, 91, 175, 579, 120, 134, 65, 95, 708, 69, 89, 326, 4, 89, 3, 4, 330, 91, 709, 710, 702, 711, 134, 712, 4, 713, 89, 61, 3, 714, 133, 89, 185, 4, 89, 101, 75, 715, 89, 318, 63, 89, 421, 379, 98, 716, 717, 574, 242, 4, 89, 52, 347, 73, 229, 69, 89, 363, 89, 10, 4, 718, 719, 720, 173, 721, 91, 330, 63, 570, 485, 104, 95, 681, 110, 134, 413, 139, 311, 116, 312, 4, 96, 581, 722, 63, 106, 96, 265, 723, 98, 344, 724, 89, 725, 4, 726, 89, 320, 653, 7, 322, 323, 727, 309, 67, 91, 110, 728, 112, 66, 89, 729, 104, 413, 730, 109, 110, 89, 218, 112, 251, 75, 196, 731, 219, 75, 112, 120, 89, 237, 236, 4, 89, 182, 379, 409, 63, 106, 732, 91, 89, 228, 519, 89, 90, 4, 89, 61, 3, 91, 89, 92, 4, 371, 372, 94, 95, 96, 97, 90, 75, 98, 89, 53, 89, 77, 4, 89, 101, 66, 67, 95, 733, 103, 104, 105, 106, 107, 108, 66, 89, 109, 110, 660, 112, 114, 115, 116, 89, 117, 66, 67, 118, 69, 89, 734, 735, 104, 95, 120, 89, 121, 4, 89, 61, 3, 63, 122, 69, 123, 124, 89, 67, 125, 69, 89, 101, 75, 126, 89, 127, 4, 128, 66, 110, 129, 163, 736, 133, 134, 135, 4, 128, 136, 137, 89, 61, 3, 138, 139, 737, 142, 143, 104, 95, 130, 98, 89, 97, 145, 89, 146, 4, 89, 65, 98, 89, 151, 152, 98, 89, 52, 53, 95, 148, 150, 89, 155, 4, 89, 156, 157, 75, 158, 159, 139, 160, 161, 63, 162, 116, 163, 164, 165, 166, 133, 110, 146, 4, 89, 635, 168, 158, 169, 4, 110, 146, 110, 95, 89, 172, 146, 4, 67, 69, 89, 156, 66, 143, 89, 61, 3, 173, 63, 174, 175, 738, 91, 89, 634, 65, 89, 156, 637, 89, 146, 4, 65, 75, 73, 739, 69, 89, 740, 170, 124, 89, 741, 4, 104, 196, 114, 638, 63, 225, 91, 460, 742, 104, 95, 120, 681, 110, 104, 112, 89, 121, 4, 89, 61, 3, 63, 122, 150, 110, 146, 4, 89, 65, 73, 89, 102, 146, 4, 743, 744, 745, 746, 110, 89, 61, 646, 91, 175, 747, 173, 748, 89, 299, 4, 647, 360, 73, 168, 158, 183, 67, 75, 159, 749, 227, 185, 750, 66, 110, 565, 751, 91, 89, 146, 4, 89, 65, 148, 69, 89, 101, 75, 206, 91, 89, 61, 646, 89, 101, 196, 721, 63, 89, 185, 110, 89, 274, 112, 170, 69, 89, 182, 379, 63, 83, 163, 664, 4, 586, 293, 165, 63, 588, 665, 133, 590, 165, 91, 587, 63, 591, 89, 192, 16, 4, 89, 698, 407, 89, 752, 185, 4, 89, 61, 3, 95, 749, 66, 134, 753, 754, 755, 4, 67, 143, 374, 748, 756, 133, 89, 299, 4, 72, 116, 89, 634, 376, 520, 1, 2, 3, 4, 5, 6, 757, 4, 8, 758, 89, 61, 759, 89, 664, 4, 760, 63, 761, 110, 89, 90, 4, 89, 61, 3, 91, 429, 762, 95, 756, 97, 75, 89, 117, 4, 89, 101, 66, 67, 374, 89, 117, 66, 143, 89, 61, 3, 95, 63, 763, 296, 97, 90, 95, 764, 69, 134, 635, 104, 659, 110, 765, 72, 116, 89, 376, 766, 767, 4, 674, 675, 75, 76, 768, 299, 66, 89, 769, 770, 98, 143, 139, 274, 582, 106, 771, 73, 139, 270, 772, 265, 723, 594, 89, 446, 4, 344, 57, 58, 59, 623, 110, 89, 67, 91, 89, 634, 65, 183, 89, 639, 773, 4, 561, 774, 775, 183, 89, 67, 125, 69, 89, 101, 91, 89, 634, 316, 89, 776, 112, 300, 75, 89, 777, 778, 112, 63, 779, 674, 675, 73, 89, 128, 75, 780, 110, 89, 67, 91, 89, 634, 65, 708, 89, 781, 782, 783, 616, 134, 95, 96, 784, 785, 786, 75, 233, 130, 159, 313, 521, 69, 89, 61, 759, 89, 61, 3, 787, 138, 139, 788, 789, 91, 790, 561, 63, 791, 775, 183, 89, 67, 125, 91, 89, 65, 68, 69, 89, 119, 89, 61, 3, 792, 110, 91, 674, 675, 89, 752, 793, 794, 150, 139, 795, 133, 89, 65, 68, 69, 89, 796, 73, 89, 67, 4, 89, 635, 139, 797, 4, 89, 798, 91, 89, 634, 65, 799, 110, 520, 89, 52, 800, 89, 209, 229, 756, 139, 318, 4, 89, 457, 4, 397, 801, 73, 139, 802, 318, 98, 344, 57, 58, 803, 4, 89, 52, 243, 110, 311, 112, 564, 69, 89, 52, 804, 644, 89, 92, 805, 63, 89, 806, 52, 10, 104, 112, 623, 110, 89, 52, 800, 112, 91, 789, 91, 130, 807, 89, 318, 4, 457, 75, 112, 272, 785, 91, 130, 807, 89, 808, 434, 4, 397, 572, 73, 139, 318, 66, 89, 109, 110, 809, 4, 89, 236, 810, 397, 811, 233, 106, 812, 73, 130, 813, 165, 814, 63, 106, 813, 69, 89, 209, 124, 815, 477, 816, 63, 89, 77, 4, 89, 626, 627, 91, 628, 629, 630, 631, 632, 89, 561, 817, 4, 89, 587, 4, 89, 100, 806, 506, 818, 819, 89, 537, 820, 146, 821, 91, 822, 134, 823, 824, 89, 52, 800, 112, 537, 89, 77, 4, 691, 825, 826, 91, 768, 587, 339, 89, 827, 828, 829, 91, 330, 331, 830, 4, 831, 691, 832, 833, 834, 95, 91, 115, 63, 608, 110, 89, 192, 16, 379, 196, 835, 836, 837, 75, 296, 837, 112, 838, 165, 110, 660, 112, 163, 839, 63, 840, 89, 839, 63, 841, 95, 130, 842, 660, 95, 114, 843, 110, 837, 112, 844, 578, 103, 104, 105, 63, 306, 110, 89, 845, 95, 116, 89, 268, 4, 89, 237, 75, 89, 846, 112, 847, 91, 89, 527, 89, 457, 848, 106, 715, 98, 344, 849, 89, 850, 851, 852, 520, 89, 100, 853, 854, 10, 112, 91, 429, 446, 821, 110, 89, 52, 800, 233, 159, 715, 89, 459, 434, 4, 397, 572, 73, 855, 265, 413, 856, 4, 139, 434, 267, 4, 89, 278, 857, 520, 104, 858, 236, 91, 89, 859, 4, 89, 860, 89, 861, 4, 89, 851, 75, 89, 299, 671, 91, 89, 587, 4, 89, 100, 806, 10, 608, 110, 89, 636, 112, 110, 134, 434, 233, 106, 812, 73, 130, 477, 731, 89, 236, 4, 89, 182, 124, 402, 862, 104, 112, 232, 124, 89, 863, 69, 89, 423, 407, 864, 112, 865, 116, 134, 636, 66, 628, 629, 630, 631, 866, 89, 636, 112, 867, 124, 89, 868, 869, 644, 89, 182, 557, 768, 870, 520, 89, 236, 372, 100, 871, 872, 4, 873, 73, 96, 299, 110, 134, 112, 139, 802, 318, 98, 1, 2, 3, 4, 5, 6, 8, 4, 8, 344, 57, 874, 862, 4, 89, 595, 266, 875, 91, 674, 876, 114, 877, 104, 878, 112, 879, 520, 89, 236, 372, 171, 690, 173, 89, 101, 118, 163, 880, 4, 140, 66, 143, 89, 595, 266, 875, 91, 881, 882, 632, 582, 106, 883, 89, 884, 117, 4, 67, 183, 756, 73, 885, 91, 89, 886, 445, 4, 89, 738, 104, 95, 120, 681, 110, 89, 309, 67, 887, 63, 106, 314, 520, 89, 595, 266, 875, 91, 888, 889, 582, 106, 890, 159, 130, 313, 125, 73, 67, 91, 89, 634, 65, 124, 163, 315, 4, 89, 891, 75, 89, 61, 3, 112, 91, 789, 320, 757, 892, 893, 58, 653, 7, 322, 323, 894, 895, 91, 896, 89, 595, 4, 674, 675, 66, 89, 755, 4, 67, 143, 183, 130, 897, 89, 61, 3, 112, 532, 898, 104, 899, 69, 89, 299, 4, 89, 900, 901, 75, 902, 789, 298, 89, 299, 73, 743, 903, 168, 104, 196, 671, 89, 636, 557, 520, 89, 52, 800, 104, 177, 159, 904, 124, 905, 110, 89, 299, 112, 91, 139, 906, 907, 150, 110, 636, 143, 112, 749, 66, 89, 908, 4, 397, 456, 413, 139, 846, 63, 89, 182, 66, 143, 104, 196, 63, 246, 909, 143, 112, 910, 63, 106, 232, 98, 344, 57, 58, 803, 4, 89, 52, 243, 91, 783, 911, 912, 134, 330, 233, 106, 715, 66, 89, 913, 109, 110, 89, 67, 914, 915, 63, 106, 314, 69, 89, 376, 63, 310, 227, 311, 116, 312, 98, 344, 916, 89, 346, 52, 53, 159, 130, 313, 314, 124, 163, 315, 4, 89, 891, 75, 120, 158, 374, 130, 573, 63, 89, 318, 319, 89, 330, 95, 120, 715, 150, 502, 917, 75, 520, 89, 61, 759, 330, 918, 919, 116, 89, 920, 921, 922, 919, 116, 89, 923, 924, 925, 320, 653, 7, 926, 927]\n"
     ]
    }
   ],
   "source": [
    "example_sequence = [vocab[word] for word in tokens]\n",
    "print(example_sequence)"
   ]
  },
  {
   "cell_type": "code",
   "execution_count": 48,
   "id": "1ee0de68",
   "metadata": {},
   "outputs": [
    {
     "name": "stdout",
     "output_type": "stream",
     "text": [
      "15210\n"
     ]
    }
   ],
   "source": [
    "window_size = 2 #chosing window size as 2\n",
    "positive_skip_grams, _ = tf.keras.preprocessing.sequence.skipgrams(\n",
    "      example_sequence,\n",
    "      vocabulary_size=vocab_size,\n",
    "      window_size=window_size,\n",
    "      negative_samples=0)\n",
    "print(len(positive_skip_grams))"
   ]
  },
  {
   "cell_type": "code",
   "execution_count": 49,
   "id": "6c8adc48",
   "metadata": {},
   "outputs": [
    {
     "name": "stdout",
     "output_type": "stream",
     "text": [
      "(72, 74): (counsel, poved)\n",
      "(698, 172): (appellant, agreed)\n",
      "(96, 266): (an, laid)\n",
      "(682, 150): (view, with)\n",
      "(137, 128): (convert, law)\n"
     ]
    }
   ],
   "source": [
    "for target, context in positive_skip_grams[:5]:\n",
    "  print(f\"({target}, {context}): ({inverse_vocab[target]}, {inverse_vocab[context]})\")"
   ]
  },
  {
   "cell_type": "code",
   "execution_count": 50,
   "id": "bbf8c1d3",
   "metadata": {},
   "outputs": [
    {
     "name": "stdout",
     "output_type": "stream",
     "text": [
      "tf.Tensor([  5  42 216   0], shape=(4,), dtype=int64)\n",
      "['india', 'd', 'deduct', '<pad>']\n"
     ]
    }
   ],
   "source": [
    "# Get target and context words for one positive skip-gram.\n",
    "target_word, context_word = positive_skip_grams[0]\n",
    "\n",
    "# Set the number of negative samples per positive context.\n",
    "num_ns = 4\n",
    "\n",
    "context_class = tf.reshape(tf.constant(context_word, dtype=\"int64\"), (1, 1))\n",
    "negative_sampling_candidates, _, _ = tf.random.log_uniform_candidate_sampler(\n",
    "    true_classes=context_class,  # class that should be sampled as 'positive'\n",
    "    num_true=1,  # each positive skip-gram has 1 positive context class\n",
    "    num_sampled=num_ns,  # number of negative context words to sample\n",
    "    unique=True,  # all the negative samples should be unique\n",
    "    range_max=vocab_size,  # pick index of the samples from [0, vocab_size]\n",
    "    #seed=SEED,  # seed for reproducibility\n",
    "    name=\"negative_sampling\"  # name of this operation\n",
    ")\n",
    "print(negative_sampling_candidates)\n",
    "print([inverse_vocab[index.numpy()] for index in negative_sampling_candidates])"
   ]
  },
  {
   "cell_type": "code",
   "execution_count": 51,
   "id": "55434458",
   "metadata": {},
   "outputs": [],
   "source": [
    "# Add a dimension so you can use concatenation (in the next step).\n",
    "negative_sampling_candidates = tf.expand_dims(negative_sampling_candidates, 1)\n",
    "\n",
    "# Concatenate a positive context word with negative sampled words.\n",
    "context = tf.concat([context_class, negative_sampling_candidates], 0)\n",
    "\n",
    "# Label the first context word as `1` (positive) followed by `num_ns` `0`s (negative).\n",
    "label = tf.constant([1] + [0]*num_ns, dtype=\"int64\")\n",
    "\n",
    "# Reshape the target to shape `(1,)` and context and label to `(num_ns+1,)`.\n",
    "target = tf.squeeze(target_word)\n",
    "context = tf.squeeze(context)\n",
    "label = tf.squeeze(label)"
   ]
  },
  {
   "cell_type": "code",
   "execution_count": 52,
   "id": "a99584ae",
   "metadata": {},
   "outputs": [
    {
     "name": "stdout",
     "output_type": "stream",
     "text": [
      "target_index    : 72\n",
      "target_word     : counsel\n",
      "context_indices : [ 74   5  42 216   0]\n",
      "context_words   : ['poved', 'india', 'd', 'deduct', '<pad>']\n",
      "label           : [1 0 0 0 0]\n"
     ]
    }
   ],
   "source": [
    "print(f\"target_index    : {target}\")\n",
    "print(f\"target_word     : {inverse_vocab[target_word]}\")\n",
    "print(f\"context_indices : {context}\")\n",
    "print(f\"context_words   : {[inverse_vocab[c.numpy()] for c in context]}\")\n",
    "print(f\"label           : {label}\")"
   ]
  },
  {
   "cell_type": "code",
   "execution_count": 53,
   "id": "1ae02a5b",
   "metadata": {},
   "outputs": [
    {
     "name": "stdout",
     "output_type": "stream",
     "text": [
      "target  : tf.Tensor(72, shape=(), dtype=int32)\n",
      "context : tf.Tensor([ 74   5  42 216   0], shape=(5,), dtype=int64)\n",
      "label   : tf.Tensor([1 0 0 0 0], shape=(5,), dtype=int64)\n"
     ]
    }
   ],
   "source": [
    "print(\"target  :\", target)\n",
    "print(\"context :\", context)\n",
    "print(\"label   :\", label)"
   ]
  },
  {
   "cell_type": "code",
   "execution_count": 54,
   "id": "c4cb7ccc",
   "metadata": {},
   "outputs": [
    {
     "name": "stdout",
     "output_type": "stream",
     "text": [
      "[0.00315225 0.00315225 0.00547597 0.00741556 0.00912817 0.01068435\n",
      " 0.01212381 0.01347162 0.01474487 0.0159558 ]\n"
     ]
    }
   ],
   "source": [
    "sampling_table = tf.keras.preprocessing.sequence.make_sampling_table(size=10)\n",
    "print(sampling_table)"
   ]
  },
  {
   "cell_type": "code",
   "execution_count": null,
   "id": "44988fce",
   "metadata": {},
   "outputs": [],
   "source": []
  },
  {
   "cell_type": "code",
   "execution_count": null,
   "id": "f120292b",
   "metadata": {},
   "outputs": [],
   "source": []
  },
  {
   "cell_type": "code",
   "execution_count": null,
   "id": "c8d83c28",
   "metadata": {},
   "outputs": [],
   "source": []
  }
 ],
 "metadata": {
  "kernelspec": {
   "display_name": "Python 3 (ipykernel)",
   "language": "python",
   "name": "python3"
  },
  "language_info": {
   "codemirror_mode": {
    "name": "ipython",
    "version": 3
   },
   "file_extension": ".py",
   "mimetype": "text/x-python",
   "name": "python",
   "nbconvert_exporter": "python",
   "pygments_lexer": "ipython3",
   "version": "3.9.7"
  }
 },
 "nbformat": 4,
 "nbformat_minor": 5
}
